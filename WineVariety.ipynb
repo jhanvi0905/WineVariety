{
  "nbformat": 4,
  "nbformat_minor": 0,
  "metadata": {
    "colab": {
      "name": "WineVariety.ipynb",
      "provenance": [],
      "collapsed_sections": [],
      "mount_file_id": "1nW8WaLGgtTX0-oHQkiZ_qc7OkYzh-WJp",
      "authorship_tag": "ABX9TyPKJGH+R2TJu5PTbG2BYq9z",
      "include_colab_link": true
    },
    "kernelspec": {
      "name": "python3",
      "display_name": "Python 3"
    }
  },
  "cells": [
    {
      "cell_type": "markdown",
      "metadata": {
        "id": "view-in-github",
        "colab_type": "text"
      },
      "source": [
        "<a href=\"https://colab.research.google.com/github/jhanvi0905/WineVariety/blob/master/WineVariety.ipynb\" target=\"_parent\"><img src=\"https://colab.research.google.com/assets/colab-badge.svg\" alt=\"Open In Colab\"/></a>"
      ]
    },
    {
      "cell_type": "code",
      "metadata": {
        "id": "iGvPKG_Fnq0j",
        "colab_type": "code",
        "colab": {
          "base_uri": "https://localhost:8080/",
          "height": 84
        },
        "outputId": "38cf69fe-23be-4e25-f4db-e1bd94d51677"
      },
      "source": [
        "!unzip \"/content/1442_8172_bundle_archive.zip\""
      ],
      "execution_count": 2,
      "outputs": [
        {
          "output_type": "stream",
          "text": [
            "Archive:  /content/1442_8172_bundle_archive.zip\n",
            "  inflating: winemag-data-130k-v2.csv  \n",
            "  inflating: winemag-data-130k-v2.json  \n",
            "  inflating: winemag-data_first150k.csv  \n"
          ],
          "name": "stdout"
        }
      ]
    },
    {
      "cell_type": "code",
      "metadata": {
        "id": "7Y6yid8Q5bfW",
        "colab_type": "code",
        "colab": {
          "base_uri": "https://localhost:8080/",
          "height": 289
        },
        "outputId": "89a740a1-de07-4551-b352-549f66558056"
      },
      "source": [
        "import nltk\n",
        "nltk.download('stopwords')\n",
        "nltk.download('punkt')\n",
        "!pip install seaborn"
      ],
      "execution_count": 3,
      "outputs": [
        {
          "output_type": "stream",
          "text": [
            "[nltk_data] Downloading package stopwords to /root/nltk_data...\n",
            "[nltk_data]   Unzipping corpora/stopwords.zip.\n",
            "[nltk_data] Downloading package punkt to /root/nltk_data...\n",
            "[nltk_data]   Unzipping tokenizers/punkt.zip.\n",
            "Requirement already satisfied: seaborn in /usr/local/lib/python3.6/dist-packages (0.10.1)\n",
            "Requirement already satisfied: pandas>=0.22.0 in /usr/local/lib/python3.6/dist-packages (from seaborn) (1.0.4)\n",
            "Requirement already satisfied: scipy>=1.0.1 in /usr/local/lib/python3.6/dist-packages (from seaborn) (1.4.1)\n",
            "Requirement already satisfied: numpy>=1.13.3 in /usr/local/lib/python3.6/dist-packages (from seaborn) (1.18.5)\n",
            "Requirement already satisfied: matplotlib>=2.1.2 in /usr/local/lib/python3.6/dist-packages (from seaborn) (3.2.1)\n",
            "Requirement already satisfied: pytz>=2017.2 in /usr/local/lib/python3.6/dist-packages (from pandas>=0.22.0->seaborn) (2018.9)\n",
            "Requirement already satisfied: python-dateutil>=2.6.1 in /usr/local/lib/python3.6/dist-packages (from pandas>=0.22.0->seaborn) (2.8.1)\n",
            "Requirement already satisfied: pyparsing!=2.0.4,!=2.1.2,!=2.1.6,>=2.0.1 in /usr/local/lib/python3.6/dist-packages (from matplotlib>=2.1.2->seaborn) (2.4.7)\n",
            "Requirement already satisfied: cycler>=0.10 in /usr/local/lib/python3.6/dist-packages (from matplotlib>=2.1.2->seaborn) (0.10.0)\n",
            "Requirement already satisfied: kiwisolver>=1.0.1 in /usr/local/lib/python3.6/dist-packages (from matplotlib>=2.1.2->seaborn) (1.2.0)\n",
            "Requirement already satisfied: six>=1.5 in /usr/local/lib/python3.6/dist-packages (from python-dateutil>=2.6.1->pandas>=0.22.0->seaborn) (1.12.0)\n"
          ],
          "name": "stdout"
        }
      ]
    },
    {
      "cell_type": "code",
      "metadata": {
        "id": "9jsEGE7du_pg",
        "colab_type": "code",
        "colab": {
          "base_uri": "https://localhost:8080/",
          "height": 70
        },
        "outputId": "ccb2f12a-f64a-46be-e22c-80b8d6147d5c"
      },
      "source": [
        "from pandas import DataFrame\n",
        "import pandas as pd\n",
        "import numpy as np\n",
        "import spacy\n",
        "import textblob\n",
        "import re\n",
        "import seaborn as sns \n",
        "import matplotlib.pyplot as plt\n",
        "from nltk.tokenize.treebank import TreebankWordDetokenizer\n",
        "from nltk.corpus import stopwords\n",
        "from nltk import word_tokenize\n",
        "from sklearn import metrics\n",
        "from sklearn.model_selection import train_test_split\n",
        "from sklearn.feature_extraction.text import CountVectorizer, TfidfVectorizer\n",
        "from sklearn.svm import LinearSVC\n",
        "from sklearn import preprocessing\n"
      ],
      "execution_count": 4,
      "outputs": [
        {
          "output_type": "stream",
          "text": [
            "/usr/local/lib/python3.6/dist-packages/statsmodels/tools/_testing.py:19: FutureWarning: pandas.util.testing is deprecated. Use the functions in the public API at pandas.testing instead.\n",
            "  import pandas.util.testing as tm\n"
          ],
          "name": "stderr"
        }
      ]
    },
    {
      "cell_type": "code",
      "metadata": {
        "id": "RQQdZpLewO9B",
        "colab_type": "code",
        "colab": {}
      },
      "source": [
        "wdata= pd.read_csv('/content/drive/My Drive/Knight ML Assignment/Data/train.csv')"
      ],
      "execution_count": 11,
      "outputs": []
    },
    {
      "cell_type": "code",
      "metadata": {
        "id": "RfqXchU7wmo_",
        "colab_type": "code",
        "colab": {
          "base_uri": "https://localhost:8080/",
          "height": 414
        },
        "outputId": "c494abf5-aea8-43fa-fe6e-6eb9daf55466"
      },
      "source": [
        "wdata.head()"
      ],
      "execution_count": 12,
      "outputs": [
        {
          "output_type": "execute_result",
          "data": {
            "text/html": [
              "<div>\n",
              "<style scoped>\n",
              "    .dataframe tbody tr th:only-of-type {\n",
              "        vertical-align: middle;\n",
              "    }\n",
              "\n",
              "    .dataframe tbody tr th {\n",
              "        vertical-align: top;\n",
              "    }\n",
              "\n",
              "    .dataframe thead th {\n",
              "        text-align: right;\n",
              "    }\n",
              "</style>\n",
              "<table border=\"1\" class=\"dataframe\">\n",
              "  <thead>\n",
              "    <tr style=\"text-align: right;\">\n",
              "      <th></th>\n",
              "      <th>user_name</th>\n",
              "      <th>country</th>\n",
              "      <th>review_title</th>\n",
              "      <th>review_description</th>\n",
              "      <th>designation</th>\n",
              "      <th>points</th>\n",
              "      <th>price</th>\n",
              "      <th>province</th>\n",
              "      <th>region_1</th>\n",
              "      <th>region_2</th>\n",
              "      <th>winery</th>\n",
              "      <th>variety</th>\n",
              "    </tr>\n",
              "  </thead>\n",
              "  <tbody>\n",
              "    <tr>\n",
              "      <th>0</th>\n",
              "      <td>NaN</td>\n",
              "      <td>Australia</td>\n",
              "      <td>Andrew Peace 2007 Peace Family Vineyard Chardo...</td>\n",
              "      <td>Classic Chardonnay aromas of apple, pear and h...</td>\n",
              "      <td>Peace Family Vineyard</td>\n",
              "      <td>83</td>\n",
              "      <td>10.0</td>\n",
              "      <td>Australia Other</td>\n",
              "      <td>South Eastern Australia</td>\n",
              "      <td>NaN</td>\n",
              "      <td>Andrew Peace</td>\n",
              "      <td>Chardonnay</td>\n",
              "    </tr>\n",
              "    <tr>\n",
              "      <th>1</th>\n",
              "      <td>@wawinereport</td>\n",
              "      <td>US</td>\n",
              "      <td>North by Northwest 2014 Red (Columbia Valley (...</td>\n",
              "      <td>This wine is near equal parts Syrah and Merlot...</td>\n",
              "      <td>NaN</td>\n",
              "      <td>89</td>\n",
              "      <td>15.0</td>\n",
              "      <td>Washington</td>\n",
              "      <td>Columbia Valley (WA)</td>\n",
              "      <td>Columbia Valley</td>\n",
              "      <td>North by Northwest</td>\n",
              "      <td>Red Blend</td>\n",
              "    </tr>\n",
              "    <tr>\n",
              "      <th>2</th>\n",
              "      <td>NaN</td>\n",
              "      <td>Italy</td>\n",
              "      <td>Renato Ratti 2007 Conca  (Barolo)</td>\n",
              "      <td>Barolo Conca opens with inky dark concentratio...</td>\n",
              "      <td>Conca</td>\n",
              "      <td>94</td>\n",
              "      <td>80.0</td>\n",
              "      <td>Piedmont</td>\n",
              "      <td>Barolo</td>\n",
              "      <td>NaN</td>\n",
              "      <td>Renato Ratti</td>\n",
              "      <td>Nebbiolo</td>\n",
              "    </tr>\n",
              "    <tr>\n",
              "      <th>3</th>\n",
              "      <td>@vossroger</td>\n",
              "      <td>France</td>\n",
              "      <td>Domaine l'Ancienne Cure 2010 L'Abbaye White (B...</td>\n",
              "      <td>It's impressive what a small addition of Sauvi...</td>\n",
              "      <td>L'Abbaye</td>\n",
              "      <td>87</td>\n",
              "      <td>22.0</td>\n",
              "      <td>Southwest France</td>\n",
              "      <td>Bergerac Sec</td>\n",
              "      <td>NaN</td>\n",
              "      <td>Domaine l'Ancienne Cure</td>\n",
              "      <td>Bordeaux-style White Blend</td>\n",
              "    </tr>\n",
              "    <tr>\n",
              "      <th>4</th>\n",
              "      <td>@vossroger</td>\n",
              "      <td>France</td>\n",
              "      <td>Château du Cèdre 2012 Le Cèdre Vintage Malbec ...</td>\n",
              "      <td>This ripe, sweet wine is rich and full of drie...</td>\n",
              "      <td>Le Cèdre Vintage</td>\n",
              "      <td>88</td>\n",
              "      <td>33.0</td>\n",
              "      <td>France Other</td>\n",
              "      <td>Vin de Liqueur</td>\n",
              "      <td>NaN</td>\n",
              "      <td>Château du Cèdre</td>\n",
              "      <td>Malbec</td>\n",
              "    </tr>\n",
              "  </tbody>\n",
              "</table>\n",
              "</div>"
            ],
            "text/plain": [
              "       user_name  ...                     variety\n",
              "0            NaN  ...                  Chardonnay\n",
              "1  @wawinereport  ...                   Red Blend\n",
              "2            NaN  ...                    Nebbiolo\n",
              "3     @vossroger  ...  Bordeaux-style White Blend\n",
              "4     @vossroger  ...                      Malbec\n",
              "\n",
              "[5 rows x 12 columns]"
            ]
          },
          "metadata": {
            "tags": []
          },
          "execution_count": 12
        }
      ]
    },
    {
      "cell_type": "code",
      "metadata": {
        "id": "6asdJQvmwq69",
        "colab_type": "code",
        "colab": {
          "base_uri": "https://localhost:8080/",
          "height": 301
        },
        "outputId": "1e33583c-f083-4fca-d80e-f499a5f548e8"
      },
      "source": [
        "country=wdata['country'].drop_duplicates(keep='first', inplace=False).dropna()\n",
        "country\n",
        "print(len(country))\n",
        "winery = wdata[[\"country\",\"winery\"]].drop_duplicates(keep='first').groupby(by=\"country\").count().sort_values(by=\"winery\")[::-1]\n",
        "winery=winery[:10]\n",
        "winery_val=[]\n",
        "for i in range(10):\n",
        "  winery_val.append(winery.values[i][0])\n",
        "winery_val=winery_val[:10]\n",
        "#print(winery_val)\n",
        "sns.set(style=\"ticks\")\n",
        "ax = sns.barplot(x = winery_val, y = winery.index, alpha=0.8)\n",
        "ax.set_title(\"10 highest number of winery containing countries\")\n",
        "plt.show()"
      ],
      "execution_count": 13,
      "outputs": [
        {
          "output_type": "stream",
          "text": [
            "38\n"
          ],
          "name": "stdout"
        },
        {
          "output_type": "display_data",
          "data": {
            "image/png": "[encoded data removed]",
            "text/plain": [
              "<Figure size 432x288 with 1 Axes>"
            ]
          },
          "metadata": {
            "tags": []
          }
        }
      ]
    },
    {
      "cell_type": "code",
      "metadata": {
        "id": "VluQvlrUmNZI",
        "colab_type": "code",
        "colab": {
          "base_uri": "https://localhost:8080/",
          "height": 284
        },
        "outputId": "2d74e129-7124-4a3e-8c2e-1f6f36da2b90"
      },
      "source": [
        "variety = pd.DataFrame(wdata['variety'])\n",
        "variety=variety['variety'].value_counts()\n",
        "sns.set(style=\"whitegrid\")\n",
        "ax = sns.barplot(y = variety.index, x = variety.values, alpha=0.8)\n",
        "ax.set_title(\"Variety Instances over the Dataset\")\n",
        "plt.show()"
      ],
      "execution_count": 14,
      "outputs": [
        {
          "output_type": "display_data",
          "data": {
            "image/png": "[encoded data removed]",
            "text/plain": [
              "<Figure size 432x288 with 1 Axes>"
            ]
          },
          "metadata": {
            "tags": []
          }
        }
      ]
    },
    {
      "cell_type": "code",
      "metadata": {
        "id": "0d1jD-QYx5Wn",
        "colab_type": "code",
        "colab": {
          "base_uri": "https://localhost:8080/",
          "height": 284
        },
        "outputId": "f54aeb45-1fd1-4f74-a52a-1485e7150890"
      },
      "source": [
        "wdata.describe()"
      ],
      "execution_count": null,
      "outputs": [
        {
          "output_type": "execute_result",
          "data": {
            "text/html": [
              "<div>\n",
              "<style scoped>\n",
              "    .dataframe tbody tr th:only-of-type {\n",
              "        vertical-align: middle;\n",
              "    }\n",
              "\n",
              "    .dataframe tbody tr th {\n",
              "        vertical-align: top;\n",
              "    }\n",
              "\n",
              "    .dataframe thead th {\n",
              "        text-align: right;\n",
              "    }\n",
              "</style>\n",
              "<table border=\"1\" class=\"dataframe\">\n",
              "  <thead>\n",
              "    <tr style=\"text-align: right;\">\n",
              "      <th></th>\n",
              "      <th>points</th>\n",
              "      <th>price</th>\n",
              "    </tr>\n",
              "  </thead>\n",
              "  <tbody>\n",
              "    <tr>\n",
              "      <th>count</th>\n",
              "      <td>82657.000000</td>\n",
              "      <td>77088.000000</td>\n",
              "    </tr>\n",
              "    <tr>\n",
              "      <th>mean</th>\n",
              "      <td>88.544564</td>\n",
              "      <td>36.922232</td>\n",
              "    </tr>\n",
              "    <tr>\n",
              "      <th>std</th>\n",
              "      <td>3.099649</td>\n",
              "      <td>43.698346</td>\n",
              "    </tr>\n",
              "    <tr>\n",
              "      <th>min</th>\n",
              "      <td>80.000000</td>\n",
              "      <td>4.000000</td>\n",
              "    </tr>\n",
              "    <tr>\n",
              "      <th>25%</th>\n",
              "      <td>86.000000</td>\n",
              "      <td>18.000000</td>\n",
              "    </tr>\n",
              "    <tr>\n",
              "      <th>50%</th>\n",
              "      <td>88.000000</td>\n",
              "      <td>27.000000</td>\n",
              "    </tr>\n",
              "    <tr>\n",
              "      <th>75%</th>\n",
              "      <td>91.000000</td>\n",
              "      <td>45.000000</td>\n",
              "    </tr>\n",
              "    <tr>\n",
              "      <th>max</th>\n",
              "      <td>100.000000</td>\n",
              "      <td>3300.000000</td>\n",
              "    </tr>\n",
              "  </tbody>\n",
              "</table>\n",
              "</div>"
            ],
            "text/plain": [
              "             points         price\n",
              "count  82657.000000  77088.000000\n",
              "mean      88.544564     36.922232\n",
              "std        3.099649     43.698346\n",
              "min       80.000000      4.000000\n",
              "25%       86.000000     18.000000\n",
              "50%       88.000000     27.000000\n",
              "75%       91.000000     45.000000\n",
              "max      100.000000   3300.000000"
            ]
          },
          "metadata": {
            "tags": []
          },
          "execution_count": 7
        }
      ]
    },
    {
      "cell_type": "code",
      "metadata": {
        "id": "XfEmK2tP1OFN",
        "colab_type": "code",
        "colab": {
          "base_uri": "https://localhost:8080/",
          "height": 284
        },
        "outputId": "75c7357d-df8d-49dc-d2e8-a1f4d455ef05"
      },
      "source": [
        "data = wdata.groupby(\"variety\").filter(lambda x: len(x) >100)\n",
        "sns.set(style=\"whitegrid\")\n",
        "stopwords = set(stopwords.words('english'))\n",
        "detokenizer = TreebankWordDetokenizer()\n",
        "def clean_description(desc):\n",
        "    desc = word_tokenize(desc.lower())\n",
        "    desc = [token for token in desc if token not in stopwords and token.isalpha()]\n",
        "    return detokenizer.detokenize(desc)\n",
        "data[\"cleaned_description\"] = wdata[\"review_description\"].apply(clean_description)\n",
        "word_occurrence = data[\"cleaned_description\"].str.split(expand=True).stack().value_counts()\n",
        "total_words = sum(word_occurrence)\n",
        "top_words = word_occurrence[:30]/total_words\n",
        "ax = sns.barplot(x = top_words.values, y = top_words.index)\n",
        "ax.set_title(\"Most Frequent Words\")\n",
        "plt.show()"
      ],
      "execution_count": 16,
      "outputs": [
        {
          "output_type": "display_data",
          "data": {
            "image/png": "[encoded data removed]",
            "text/plain": [
              "<Figure size 432x288 with 1 Axes>"
            ]
          },
          "metadata": {
            "tags": []
          }
        }
      ]
    },
    {
      "cell_type": "code",
      "metadata": {
        "id": "g3DsIheE6fMx",
        "colab_type": "code",
        "colab": {
          "base_uri": "https://localhost:8080/",
          "height": 101
        },
        "outputId": "585e852b-ec06-47d4-a52c-88bb3cb80737"
      },
      "source": [
        "years=[]  \n",
        "for value in wdata['review_title']:\n",
        "    regexresult = re.search(r'19\\d{2}|20\\d{2}', value)\n",
        "    if regexresult:\n",
        "        years.append(regexresult.group())\n",
        "    else: years.append(None)\n",
        "wdata['Vintage'] = years\n",
        "wdata['Vintage'].describe()"
      ],
      "execution_count": 18,
      "outputs": [
        {
          "output_type": "execute_result",
          "data": {
            "text/plain": [
              "count     80129\n",
              "unique       38\n",
              "top        2012\n",
              "freq      10379\n",
              "Name: Vintage, dtype: object"
            ]
          },
          "metadata": {
            "tags": []
          },
          "execution_count": 18
        }
      ]
    },
    {
      "cell_type": "code",
      "metadata": {
        "id": "9IJf21D8bU4n",
        "colab_type": "code",
        "colab": {
          "base_uri": "https://localhost:8080/",
          "height": 585
        },
        "outputId": "4862fd02-7dca-4455-a24c-ae93cdf883c8"
      },
      "source": [
        "grape_year=wdata[[\"variety\",\"Vintage\"]]\n",
        "grape_year=grape_year.dropna().drop_duplicates()\n",
        "grape_year=grape_year.reset_index(drop=True)\n",
        "grape_year=pd.DataFrame(grape_year.groupby(by=\"Vintage\").count().sort_values(by=\"Vintage\"))\n",
        "grape_val=[]\n",
        "for i in range(len(grape_year)):\n",
        "  grape_val.append(grape_year.values[i][0])\n",
        "grape_old=grape_year[:10]\n",
        "grape_old_val=grape_val[:10]\n",
        "sns.set(style=\"ticks\")\n",
        "ax = sns.barplot(x = grape_old.index, y =grape_old_val, alpha=0.8)\n",
        "ax.set_title(\"Oldest Variety Distribution\")\n",
        "plt.ylabel(\"Number of Varieties\")\n",
        "plt.show()\n",
        "grape_new=grape_year[-10:]\n",
        "grape_new_val=grape_val[-10:]\n",
        "sns.set(style=\"ticks\")\n",
        "ax = sns.barplot(x = grape_new.index, y =grape_new_val, alpha=0.8)\n",
        "ax.set_title(\"Newest Variety Distribution\")\n",
        "plt.ylabel(\"Number of Varieties\")\n",
        "plt.show()"
      ],
      "execution_count": null,
      "outputs": [
        {
          "output_type": "display_data",
          "data": {
            "image/png": "[encoded data removed]",
            "text/plain": [
              "<Figure size 432x288 with 1 Axes>"
            ]
          },
          "metadata": {
            "tags": []
          }
        },
        {
          "output_type": "display_data",
          "data": {
            "image/png": "[encoded data removed]",
            "text/plain": [
              "<Figure size 432x288 with 1 Axes>"
            ]
          },
          "metadata": {
            "tags": []
          }
        }
      ]
    },
    {
      "cell_type": "code",
      "metadata": {
        "id": "6nISkcvbicQQ",
        "colab_type": "code",
        "colab": {
          "base_uri": "https://localhost:8080/",
          "height": 301
        },
        "outputId": "aa82b0fb-49e8-4ddc-d528-7568defc437a"
      },
      "source": [
        "rate=wdata[[\"variety\",\"points\"]]\n",
        "top_rated=pd.DataFrame(rate.groupby(\"variety\")['points'].sum().sort_values())[-5:]\n",
        "rate_val=[]\n",
        "for i in range(len(top_rated)):\n",
        "  rate_val.append(top_rated.values[i][0])\n",
        "sns.set(style=\"darkgrid\")\n",
        "ax=sns.barplot(y=top_rated.index, x=rate_val, alpha=0.8)\n",
        "ax.set_title(\"Top 5 high rated varietes\")\n",
        "ax.set_xlabel(\"Sum of Points\")\n",
        "plt.show()\n"
      ],
      "execution_count": null,
      "outputs": [
        {
          "output_type": "display_data",
          "data": {
            "image/png": "[encoded data removed]",
            "text/plain": [
              "<Figure size 432x288 with 1 Axes>"
            ]
          },
          "metadata": {
            "tags": []
          }
        }
      ]
    },
    {
      "cell_type": "code",
      "metadata": {
        "id": "wTmHxlZViAZs",
        "colab_type": "code",
        "colab": {
          "base_uri": "https://localhost:8080/",
          "height": 420
        },
        "outputId": "bad19f19-0f44-4dce-ed68-989723e3da5c"
      },
      "source": [
        "variety=DataFrame(actual_data.variety.value_counts())\n",
        "varietyl=list(variety.index[variety['variety']>1000])\n",
        "actual_dat=actual_data[actual_data['variety'].isin(varietyl)]\n",
        "actual_dat.variety.value_counts()"
      ],
      "execution_count": null,
      "outputs": [
        {
          "output_type": "execute_result",
          "data": {
            "text/plain": [
              "Pinot Noir                  10587\n",
              "Chardonnay                   9403\n",
              "Cabernet Sauvignon           7552\n",
              "Red Blend                    7166\n",
              "Bordeaux-style Red Blend     5497\n",
              "Riesling                     4148\n",
              "Sauvignon Blanc              4011\n",
              "Syrah                        3316\n",
              "Rosé                         2831\n",
              "Merlot                       2471\n",
              "Nebbiolo                     2242\n",
              "Zinfandel                    2209\n",
              "Sangiovese                   2165\n",
              "Malbec                       2119\n",
              "Portuguese Red               1969\n",
              "White Blend                  1896\n",
              "Sparkling Blend              1739\n",
              "Tempranillo                  1448\n",
              "Rhône-style Red Blend        1182\n",
              "Pinot Gris                   1148\n",
              "Champagne Blend              1133\n",
              "Cabernet Franc               1095\n",
              "Grüner Veltliner             1055\n",
              "Name: variety, dtype: int64"
            ]
          },
          "metadata": {
            "tags": []
          },
          "execution_count": 14
        }
      ]
    },
    {
      "cell_type": "code",
      "metadata": {
        "id": "zY36WIknrjXZ",
        "colab_type": "code",
        "colab": {
          "base_uri": "https://localhost:8080/",
          "height": 402
        },
        "outputId": "f3743d24-7983-44df-fc8a-2dc14d8e786d"
      },
      "source": [
        "actual_data= wdata.drop(columns=['user_name','country','points','price','Vintage' ,'review_title', 'review_description', 'designation', 'province', 'region_1','region_2','winery']).dropna().reset_index(drop=True)\n",
        "actual_data['description']=data['cleaned_description']\n",
        "actual_data"
      ],
      "execution_count": 19,
      "outputs": [
        {
          "output_type": "execute_result",
          "data": {
            "text/html": [
              "<div>\n",
              "<style scoped>\n",
              "    .dataframe tbody tr th:only-of-type {\n",
              "        vertical-align: middle;\n",
              "    }\n",
              "\n",
              "    .dataframe tbody tr th {\n",
              "        vertical-align: top;\n",
              "    }\n",
              "\n",
              "    .dataframe thead th {\n",
              "        text-align: right;\n",
              "    }\n",
              "</style>\n",
              "<table border=\"1\" class=\"dataframe\">\n",
              "  <thead>\n",
              "    <tr style=\"text-align: right;\">\n",
              "      <th></th>\n",
              "      <th>variety</th>\n",
              "      <th>description</th>\n",
              "    </tr>\n",
              "  </thead>\n",
              "  <tbody>\n",
              "    <tr>\n",
              "      <th>0</th>\n",
              "      <td>Chardonnay</td>\n",
              "      <td>classic chardonnay aromas apple pear hay lead ...</td>\n",
              "    </tr>\n",
              "    <tr>\n",
              "      <th>1</th>\n",
              "      <td>Red Blend</td>\n",
              "      <td>wine near equal parts syrah merlot balance cab...</td>\n",
              "    </tr>\n",
              "    <tr>\n",
              "      <th>2</th>\n",
              "      <td>Nebbiolo</td>\n",
              "      <td>barolo conca opens inky dark concentration soo...</td>\n",
              "    </tr>\n",
              "    <tr>\n",
              "      <th>3</th>\n",
              "      <td>Bordeaux-style White Blend</td>\n",
              "      <td>impressive small addition sauvignon gris musca...</td>\n",
              "    </tr>\n",
              "    <tr>\n",
              "      <th>4</th>\n",
              "      <td>Malbec</td>\n",
              "      <td>ripe sweet wine rich full dried fresh fruit fl...</td>\n",
              "    </tr>\n",
              "    <tr>\n",
              "      <th>...</th>\n",
              "      <td>...</td>\n",
              "      <td>...</td>\n",
              "    </tr>\n",
              "    <tr>\n",
              "      <th>82652</th>\n",
              "      <td>Tempranillo</td>\n",
              "      <td>hot earth baked cherry mild vanilla aromas com...</td>\n",
              "    </tr>\n",
              "    <tr>\n",
              "      <th>82653</th>\n",
              "      <td>Cabernet Sauvignon</td>\n",
              "      <td>pungent notes turmeric dried flower hit nose f...</td>\n",
              "    </tr>\n",
              "    <tr>\n",
              "      <th>82654</th>\n",
              "      <td>Gamay</td>\n",
              "      <td>wine lively fruity weight structure well keepi...</td>\n",
              "    </tr>\n",
              "    <tr>\n",
              "      <th>82655</th>\n",
              "      <td>Bordeaux-style Red Blend</td>\n",
              "      <td>impressive wine already shows signs potential ...</td>\n",
              "    </tr>\n",
              "    <tr>\n",
              "      <th>82656</th>\n",
              "      <td>Cabernet Sauvignon</td>\n",
              "      <td>big rich vital cabernet immediate attraction d...</td>\n",
              "    </tr>\n",
              "  </tbody>\n",
              "</table>\n",
              "<p>82657 rows × 2 columns</p>\n",
              "</div>"
            ],
            "text/plain": [
              "                          variety                                        description\n",
              "0                      Chardonnay  classic chardonnay aromas apple pear hay lead ...\n",
              "1                       Red Blend  wine near equal parts syrah merlot balance cab...\n",
              "2                        Nebbiolo  barolo conca opens inky dark concentration soo...\n",
              "3      Bordeaux-style White Blend  impressive small addition sauvignon gris musca...\n",
              "4                          Malbec  ripe sweet wine rich full dried fresh fruit fl...\n",
              "...                           ...                                                ...\n",
              "82652                 Tempranillo  hot earth baked cherry mild vanilla aromas com...\n",
              "82653          Cabernet Sauvignon  pungent notes turmeric dried flower hit nose f...\n",
              "82654                       Gamay  wine lively fruity weight structure well keepi...\n",
              "82655    Bordeaux-style Red Blend  impressive wine already shows signs potential ...\n",
              "82656          Cabernet Sauvignon  big rich vital cabernet immediate attraction d...\n",
              "\n",
              "[82657 rows x 2 columns]"
            ]
          },
          "metadata": {
            "tags": []
          },
          "execution_count": 19
        }
      ]
    },
    {
      "cell_type": "code",
      "metadata": {
        "id": "kLLEq-icrqzS",
        "colab_type": "code",
        "colab": {
          "base_uri": "https://localhost:8080/",
          "height": 34
        },
        "outputId": "861cf8c1-129c-4d99-ba64-a5288ec85ed4"
      },
      "source": [
        "from keras.preprocessing.text import Tokenizer\n",
        "from keras.preprocessing.sequence import pad_sequences\n",
        "from keras.models import Sequential\n",
        "from keras.layers import Dense, Flatten, LSTM, Conv1D, MaxPooling1D, Dropout, Activation, Bidirectional, TimeDistributed, Input\n",
        "from keras import Model\n",
        "from keras.layers.embeddings import Embedding\n",
        "from sklearn.model_selection import train_test_split"
      ],
      "execution_count": 29,
      "outputs": [
        {
          "output_type": "stream",
          "text": [
            "Using TensorFlow backend.\n"
          ],
          "name": "stderr"
        }
      ]
    },
    {
      "cell_type": "code",
      "metadata": {
        "id": "e_sdOqoOqg_8",
        "colab_type": "code",
        "colab": {}
      },
      "source": [
        "X_train, X_test, Y_train, Y_test= train_test_split(actual_data['description'], actual_data['variety'], test_size=0.25)"
      ],
      "execution_count": 26,
      "outputs": []
    },
    {
      "cell_type": "code",
      "metadata": {
        "id": "c8LomLXfrCaI",
        "colab_type": "code",
        "colab": {
          "base_uri": "https://localhost:8080/",
          "height": 50
        },
        "outputId": "58aa8b54-b29e-4c0d-a2d3-7cd7f416e134"
      },
      "source": [
        "print(len(X_train))\n",
        "print(len(X_test))"
      ],
      "execution_count": 27,
      "outputs": [
        {
          "output_type": "stream",
          "text": [
            "61992\n",
            "20665\n"
          ],
          "name": "stdout"
        }
      ]
    },
    {
      "cell_type": "code",
      "metadata": {
        "id": "UJ51nGbErrtr",
        "colab_type": "code",
        "colab": {
          "base_uri": "https://localhost:8080/",
          "height": 34
        },
        "outputId": "ebe2ba3b-82b8-44e9-efe7-b8cf30bcb99e"
      },
      "source": [
        "tokenizer = Tokenizer()\n",
        "tokenizer.fit_on_texts(X_train)\n",
        "vocab_size = len(tokenizer.word_index) + 1\n",
        "print(vocab_size)"
      ],
      "execution_count": 30,
      "outputs": [
        {
          "output_type": "stream",
          "text": [
            "22313\n"
          ],
          "name": "stdout"
        }
      ]
    },
    {
      "cell_type": "code",
      "metadata": {
        "id": "nOlsmYu7Priy",
        "colab_type": "code",
        "colab": {}
      },
      "source": [
        "train_sequences = tokenizer.texts_to_sequences(X_train)\n",
        "train_data = pad_sequences(train_sequences, maxlen=25, padding='post')"
      ],
      "execution_count": 32,
      "outputs": []
    },
    {
      "cell_type": "code",
      "metadata": {
        "id": "PrjqYZ2Ishf_",
        "colab_type": "code",
        "colab": {
          "base_uri": "https://localhost:8080/",
          "height": 34
        },
        "outputId": "119711ef-dd98-42f3-aabc-37afc609521d"
      },
      "source": [
        "train_data.shape"
      ],
      "execution_count": 33,
      "outputs": [
        {
          "output_type": "execute_result",
          "data": {
            "text/plain": [
              "(61992, 25)"
            ]
          },
          "metadata": {
            "tags": []
          },
          "execution_count": 33
        }
      ]
    },
    {
      "cell_type": "code",
      "metadata": {
        "id": "sWi1VcwOsLT2",
        "colab_type": "code",
        "colab": {}
      },
      "source": [
        "test_sequences = tokenizer.texts_to_sequences(X_test)\n",
        "test_data = pad_sequences(test_sequences, maxlen=25, padding='post')"
      ],
      "execution_count": 35,
      "outputs": []
    },
    {
      "cell_type": "code",
      "metadata": {
        "id": "BJxY2fS1sV5x",
        "colab_type": "code",
        "colab": {
          "base_uri": "https://localhost:8080/",
          "height": 34
        },
        "outputId": "101a9e76-4c2e-4b7d-b7ee-5b72421269a0"
      },
      "source": [
        "test_data.shape"
      ],
      "execution_count": 36,
      "outputs": [
        {
          "output_type": "execute_result",
          "data": {
            "text/plain": [
              "(20665, 25)"
            ]
          },
          "metadata": {
            "tags": []
          },
          "execution_count": 36
        }
      ]
    },
    {
      "cell_type": "code",
      "metadata": {
        "id": "B4glm-eqzq7H",
        "colab_type": "code",
        "colab": {
          "base_uri": "https://localhost:8080/",
          "height": 34
        },
        "outputId": "c4afb0c6-03b2-4044-fbe5-061febd4bb5a"
      },
      "source": [
        "from keras.utils import to_categorical\n",
        "Label=preprocessing.LabelEncoder()\n",
        "Y_train=Label.fit_transform(Y_train)\n",
        "Y_test=Label.transform(Y_test)\n",
        "Y_train.shape"
      ],
      "execution_count": 34,
      "outputs": [
        {
          "output_type": "execute_result",
          "data": {
            "text/plain": [
              "(61992,)"
            ]
          },
          "metadata": {
            "tags": []
          },
          "execution_count": 34
        }
      ]
    },
    {
      "cell_type": "code",
      "metadata": {
        "id": "6NT220WOGyLq",
        "colab_type": "code",
        "colab": {}
      },
      "source": [
        "from gensim.models import Word2Vec\n",
        "actual_data['tokenized'] = actual_data.apply(lambda row : nltk.word_tokenize(row['description']), axis=1)"
      ],
      "execution_count": 38,
      "outputs": []
    },
    {
      "cell_type": "code",
      "metadata": {
        "id": "Xrmr4hjCnVNh",
        "colab_type": "code",
        "colab": {
          "base_uri": "https://localhost:8080/",
          "height": 195
        },
        "outputId": "69224023-4549-481e-a85a-742e058b3b55"
      },
      "source": [
        "actual_data.head()"
      ],
      "execution_count": 39,
      "outputs": [
        {
          "output_type": "execute_result",
          "data": {
            "text/html": [
              "<div>\n",
              "<style scoped>\n",
              "    .dataframe tbody tr th:only-of-type {\n",
              "        vertical-align: middle;\n",
              "    }\n",
              "\n",
              "    .dataframe tbody tr th {\n",
              "        vertical-align: top;\n",
              "    }\n",
              "\n",
              "    .dataframe thead th {\n",
              "        text-align: right;\n",
              "    }\n",
              "</style>\n",
              "<table border=\"1\" class=\"dataframe\">\n",
              "  <thead>\n",
              "    <tr style=\"text-align: right;\">\n",
              "      <th></th>\n",
              "      <th>variety</th>\n",
              "      <th>description</th>\n",
              "      <th>tokenized</th>\n",
              "    </tr>\n",
              "  </thead>\n",
              "  <tbody>\n",
              "    <tr>\n",
              "      <th>0</th>\n",
              "      <td>Chardonnay</td>\n",
              "      <td>classic chardonnay aromas apple pear hay lead ...</td>\n",
              "      <td>[classic, chardonnay, aromas, apple, pear, hay...</td>\n",
              "    </tr>\n",
              "    <tr>\n",
              "      <th>1</th>\n",
              "      <td>Red Blend</td>\n",
              "      <td>wine near equal parts syrah merlot balance cab...</td>\n",
              "      <td>[wine, near, equal, parts, syrah, merlot, bala...</td>\n",
              "    </tr>\n",
              "    <tr>\n",
              "      <th>2</th>\n",
              "      <td>Nebbiolo</td>\n",
              "      <td>barolo conca opens inky dark concentration soo...</td>\n",
              "      <td>[barolo, conca, opens, inky, dark, concentrati...</td>\n",
              "    </tr>\n",
              "    <tr>\n",
              "      <th>3</th>\n",
              "      <td>Bordeaux-style White Blend</td>\n",
              "      <td>impressive small addition sauvignon gris musca...</td>\n",
              "      <td>[impressive, small, addition, sauvignon, gris,...</td>\n",
              "    </tr>\n",
              "    <tr>\n",
              "      <th>4</th>\n",
              "      <td>Malbec</td>\n",
              "      <td>ripe sweet wine rich full dried fresh fruit fl...</td>\n",
              "      <td>[ripe, sweet, wine, rich, full, dried, fresh, ...</td>\n",
              "    </tr>\n",
              "  </tbody>\n",
              "</table>\n",
              "</div>"
            ],
            "text/plain": [
              "                      variety  ...                                          tokenized\n",
              "0                  Chardonnay  ...  [classic, chardonnay, aromas, apple, pear, hay...\n",
              "1                   Red Blend  ...  [wine, near, equal, parts, syrah, merlot, bala...\n",
              "2                    Nebbiolo  ...  [barolo, conca, opens, inky, dark, concentrati...\n",
              "3  Bordeaux-style White Blend  ...  [impressive, small, addition, sauvignon, gris,...\n",
              "4                      Malbec  ...  [ripe, sweet, wine, rich, full, dried, fresh, ...\n",
              "\n",
              "[5 rows x 3 columns]"
            ]
          },
          "metadata": {
            "tags": []
          },
          "execution_count": 39
        }
      ]
    },
    {
      "cell_type": "code",
      "metadata": {
        "id": "FJcSQTBWnieR",
        "colab_type": "code",
        "colab": {}
      },
      "source": [
        "model_w2v = Word2Vec(actual_data['tokenized'], size=300, min_count=6)"
      ],
      "execution_count": 40,
      "outputs": []
    },
    {
      "cell_type": "code",
      "metadata": {
        "id": "B9poudeEoN6a",
        "colab_type": "code",
        "colab": {
          "base_uri": "https://localhost:8080/",
          "height": 104
        },
        "outputId": "b5b1b4cf-4c34-4781-ce8e-bb5a7bc91b2f"
      },
      "source": [
        "model_w2v['wine']\n",
        "model_w2v.wv.save_word2vec_format(\"model_w2v_300.txt\", binary=False)"
      ],
      "execution_count": 41,
      "outputs": [
        {
          "output_type": "stream",
          "text": [
            "/usr/local/lib/python3.6/dist-packages/ipykernel_launcher.py:1: DeprecationWarning: Call to deprecated `__getitem__` (Method will be removed in 4.0.0, use self.wv.__getitem__() instead).\n",
            "  \"\"\"Entry point for launching an IPython kernel.\n",
            "/usr/local/lib/python3.6/dist-packages/smart_open/smart_open_lib.py:253: UserWarning: This function is deprecated, use smart_open.open instead. See the migration notes for details: https://github.com/RaRe-Technologies/smart_open/blob/master/README.rst#migrating-to-the-new-open-function\n",
            "  'See the migration notes for details: %s' % _MIGRATION_NOTES_URL\n"
          ],
          "name": "stderr"
        }
      ]
    },
    {
      "cell_type": "code",
      "metadata": {
        "id": "nwKkMFLGvIOm",
        "colab_type": "code",
        "colab": {
          "base_uri": "https://localhost:8080/",
          "height": 34
        },
        "outputId": "aefea1e8-c859-449c-a959-f4f648ad62e1"
      },
      "source": [
        "embeddings_index = dict()\n",
        "f = open('model_w2v_300.txt')\n",
        "for line in f:\n",
        "    values = line.split()\n",
        "    word = values[0]\n",
        "    coefs = np.asarray(values[1:], dtype='float32')\n",
        "    embeddings_index[word] = coefs\n",
        "f.close()\n",
        "print('Loaded %s word vectors.' % len(embeddings_index))"
      ],
      "execution_count": 43,
      "outputs": [
        {
          "output_type": "stream",
          "text": [
            "Loaded 8806 word vectors.\n"
          ],
          "name": "stdout"
        }
      ]
    },
    {
      "cell_type": "code",
      "metadata": {
        "id": "vPwgO1X1vZtz",
        "colab_type": "code",
        "colab": {}
      },
      "source": [
        "from numpy import zeros\n",
        "embedding_matrix = zeros((vocab_size, 300))\n",
        "for word, i in tokenizer.word_index.items():\n",
        " embedding_vector =embeddings_index.get(word)\n",
        " if embedding_vector is not None:\n",
        "  embedding_matrix[i] = embedding_vector"
      ],
      "execution_count": 44,
      "outputs": []
    },
    {
      "cell_type": "code",
      "metadata": {
        "id": "z66LhspZvg27",
        "colab_type": "code",
        "colab": {
          "base_uri": "https://localhost:8080/",
          "height": 386
        },
        "outputId": "411c6959-0864-405e-8d23-48691f816ca9"
      },
      "source": [
        "max_len=25\n",
        "input = Input(shape=(max_len,))\n",
        "model = Embedding(vocab_size,300,weights=[embedding_matrix],input_length=max_len)(input)\n",
        "model =  Bidirectional (LSTM (100,return_sequences=True,dropout=0.50),merge_mode='concat')(model)\n",
        "model = TimeDistributed(Dense(100,activation='relu'))(model)\n",
        "model = Flatten()(model)\n",
        "model = Dense(100,activation='relu')(model)\n",
        "output = Dense(28,activation='softmax')(model)\n",
        "model = Model(input,output)\n",
        "model.compile(loss='sparse_categorical_crossentropy',optimizer='adam', metrics=['accuracy'])\n",
        "model.summary()"
      ],
      "execution_count": 45,
      "outputs": [
        {
          "output_type": "stream",
          "text": [
            "Model: \"model_1\"\n",
            "_________________________________________________________________\n",
            "Layer (type)                 Output Shape              Param #   \n",
            "=================================================================\n",
            "input_1 (InputLayer)         (None, 25)                0         \n",
            "_________________________________________________________________\n",
            "embedding_1 (Embedding)      (None, 25, 300)           6693900   \n",
            "_________________________________________________________________\n",
            "bidirectional_1 (Bidirection (None, 25, 200)           320800    \n",
            "_________________________________________________________________\n",
            "time_distributed_1 (TimeDist (None, 25, 100)           20100     \n",
            "_________________________________________________________________\n",
            "flatten_1 (Flatten)          (None, 2500)              0         \n",
            "_________________________________________________________________\n",
            "dense_2 (Dense)              (None, 100)               250100    \n",
            "_________________________________________________________________\n",
            "dense_3 (Dense)              (None, 28)                2828      \n",
            "=================================================================\n",
            "Total params: 7,287,728\n",
            "Trainable params: 7,287,728\n",
            "Non-trainable params: 0\n",
            "_________________________________________________________________\n"
          ],
          "name": "stdout"
        }
      ]
    },
    {
      "cell_type": "code",
      "metadata": {
        "id": "X3sc5mprv9Id",
        "colab_type": "code",
        "colab": {
          "base_uri": "https://localhost:8080/",
          "height": 272
        },
        "outputId": "7ff35a2d-4704-4419-9731-ecafd106939f"
      },
      "source": [
        "model.fit(train_data, Y_train, validation_split=0.2, epochs=5)"
      ],
      "execution_count": 46,
      "outputs": [
        {
          "output_type": "stream",
          "text": [
            "/usr/local/lib/python3.6/dist-packages/tensorflow/python/framework/indexed_slices.py:434: UserWarning: Converting sparse IndexedSlices to a dense Tensor of unknown shape. This may consume a large amount of memory.\n",
            "  \"Converting sparse IndexedSlices to a dense Tensor of unknown shape. \"\n"
          ],
          "name": "stderr"
        },
        {
          "output_type": "stream",
          "text": [
            "Train on 49593 samples, validate on 12399 samples\n",
            "Epoch 1/5\n",
            "49593/49593 [==============================] - 254s 5ms/step - loss: 1.6192 - accuracy: 0.4928 - val_loss: 1.2514 - val_accuracy: 0.5997\n",
            "Epoch 2/5\n",
            "49593/49593 [==============================] - 257s 5ms/step - loss: 1.1699 - accuracy: 0.6239 - val_loss: 1.1247 - val_accuracy: 0.6446\n",
            "Epoch 3/5\n",
            "49593/49593 [==============================] - 266s 5ms/step - loss: 0.9563 - accuracy: 0.6918 - val_loss: 1.1305 - val_accuracy: 0.6534\n",
            "Epoch 4/5\n",
            "49593/49593 [==============================] - 265s 5ms/step - loss: 0.7816 - accuracy: 0.7454 - val_loss: 1.2205 - val_accuracy: 0.6491\n",
            "Epoch 5/5\n",
            "49593/49593 [==============================] - 261s 5ms/step - loss: 0.6369 - accuracy: 0.7901 - val_loss: 1.3078 - val_accuracy: 0.6414\n"
          ],
          "name": "stdout"
        },
        {
          "output_type": "execute_result",
          "data": {
            "text/plain": [
              "<keras.callbacks.callbacks.History at 0x7fdf78484400>"
            ]
          },
          "metadata": {
            "tags": []
          },
          "execution_count": 46
        }
      ]
    },
    {
      "cell_type": "code",
      "metadata": {
        "id": "3SeiX6rldEyq",
        "colab_type": "code",
        "colab": {
          "base_uri": "https://localhost:8080/",
          "height": 218
        },
        "outputId": "7c0cf6d5-cbf2-4ef6-eef6-a73648a5911e"
      },
      "source": [
        "model.fit(train_data, Y_train, validation_split=0.2, epochs=5)"
      ],
      "execution_count": 51,
      "outputs": [
        {
          "output_type": "stream",
          "text": [
            "Train on 49593 samples, validate on 12399 samples\n",
            "Epoch 1/5\n",
            "49593/49593 [==============================] - 255s 5ms/step - loss: 0.5179 - accuracy: 0.8273 - val_loss: 1.4401 - val_accuracy: 0.6442\n",
            "Epoch 2/5\n",
            "49593/49593 [==============================] - 249s 5ms/step - loss: 0.4306 - accuracy: 0.8537 - val_loss: 1.6553 - val_accuracy: 0.6380\n",
            "Epoch 3/5\n",
            "49593/49593 [==============================] - 250s 5ms/step - loss: 0.3606 - accuracy: 0.8778 - val_loss: 1.8320 - val_accuracy: 0.6317\n",
            "Epoch 4/5\n",
            "49593/49593 [==============================] - 248s 5ms/step - loss: 0.3064 - accuracy: 0.8945 - val_loss: 2.0025 - val_accuracy: 0.6350\n",
            "Epoch 5/5\n",
            "49593/49593 [==============================] - 248s 5ms/step - loss: 0.2631 - accuracy: 0.9097 - val_loss: 2.1986 - val_accuracy: 0.6298\n"
          ],
          "name": "stdout"
        },
        {
          "output_type": "execute_result",
          "data": {
            "text/plain": [
              "<keras.callbacks.callbacks.History at 0x7fdf782399b0>"
            ]
          },
          "metadata": {
            "tags": []
          },
          "execution_count": 51
        }
      ]
    },
    {
      "cell_type": "code",
      "metadata": {
        "id": "1uuBZ4p8qKYI",
        "colab_type": "code",
        "colab": {}
      },
      "source": [
        "model.save(\"/content/drive/My Drive/Knight ML Assignment/prediction_wine_variety.h5\")"
      ],
      "execution_count": null,
      "outputs": []
    },
    {
      "cell_type": "code",
      "metadata": {
        "id": "8z9CQoE-qirq",
        "colab_type": "code",
        "colab": {}
      },
      "source": [
        "zackthoutt Kaggle"
      ],
      "execution_count": null,
      "outputs": []
    },
    {
      "cell_type": "code",
      "metadata": {
        "id": "v4bRxjR9slcP",
        "colab_type": "code",
        "colab": {}
      },
      "source": [
        "from keras.models import load_model\n",
        "model=model.load('prediction_wine_variety.h5')"
      ],
      "execution_count": null,
      "outputs": []
    },
    {
      "cell_type": "code",
      "metadata": {
        "id": "46mnmqyrlILM",
        "colab_type": "code",
        "colab": {}
      },
      "source": [
        "Y_pred = model.predict(test_data)\n",
        "y_pred = np.array([np.argmax(pred) for pred in Y_pred])"
      ],
      "execution_count": 48,
      "outputs": []
    },
    {
      "cell_type": "code",
      "metadata": {
        "id": "kQEccclentAu",
        "colab_type": "code",
        "colab": {
          "base_uri": "https://localhost:8080/",
          "height": 605
        },
        "outputId": "a6308d53-d700-415a-e147-d51594333f33"
      },
      "source": [
        "from sklearn.metrics import classification_report\n",
        "print(classification_report(Y_test, y_pred))"
      ],
      "execution_count": 49,
      "outputs": [
        {
          "output_type": "stream",
          "text": [
            "              precision    recall  f1-score   support\n",
            "\n",
            "           0       0.64      0.66      0.65      1346\n",
            "           1       0.63      0.41      0.50       217\n",
            "           2       0.55      0.29      0.38       266\n",
            "           3       0.61      0.60      0.61      1929\n",
            "           4       0.60      0.62      0.61       293\n",
            "           5       0.72      0.84      0.77      2341\n",
            "           6       0.78      0.39      0.52       221\n",
            "           7       0.82      0.50      0.62       222\n",
            "           8       0.60      0.67      0.64       261\n",
            "           9       0.52      0.47      0.50       539\n",
            "          10       0.45      0.42      0.44       613\n",
            "          11       0.66      0.71      0.68       537\n",
            "          12       0.53      0.57      0.55       212\n",
            "          13       0.56      0.44      0.49       303\n",
            "          14       0.67      0.81      0.73      2682\n",
            "          15       0.65      0.57      0.61       502\n",
            "          16       0.76      0.47      0.58       235\n",
            "          17       0.62      0.57      0.59      1768\n",
            "          18       0.55      0.55      0.55       309\n",
            "          19       0.78      0.81      0.80      1024\n",
            "          20       0.75      0.70      0.73       696\n",
            "          21       0.49      0.50      0.50       549\n",
            "          22       0.72      0.64      0.68       961\n",
            "          23       0.70      0.67      0.69       450\n",
            "          24       0.62      0.49      0.55       833\n",
            "          25       0.33      0.52      0.41       332\n",
            "          26       0.69      0.62      0.65       476\n",
            "          27       0.65      0.59      0.62       548\n",
            "\n",
            "    accuracy                           0.65     20665\n",
            "   macro avg       0.63      0.58      0.59     20665\n",
            "weighted avg       0.65      0.65      0.64     20665\n",
            "\n"
          ],
          "name": "stdout"
        }
      ]
    },
    {
      "cell_type": "code",
      "metadata": {
        "id": "7tCX83S85qB_",
        "colab_type": "code",
        "colab": {
          "base_uri": "https://localhost:8080/",
          "height": 195
        },
        "outputId": "0c9e8e11-7807-4960-dddc-11927d5fa585"
      },
      "source": [
        "result=DataFrame()\n",
        "result['description']=X_test\n",
        "result['variety']=list(Label.inverse_transform(Y_test))\n",
        "result['predicted_variety']=list(Label.inverse_transform(y_pred))\n",
        "result.head()"
      ],
      "execution_count": 58,
      "outputs": [
        {
          "output_type": "execute_result",
          "data": {
            "text/html": [
              "<div>\n",
              "<style scoped>\n",
              "    .dataframe tbody tr th:only-of-type {\n",
              "        vertical-align: middle;\n",
              "    }\n",
              "\n",
              "    .dataframe tbody tr th {\n",
              "        vertical-align: top;\n",
              "    }\n",
              "\n",
              "    .dataframe thead th {\n",
              "        text-align: right;\n",
              "    }\n",
              "</style>\n",
              "<table border=\"1\" class=\"dataframe\">\n",
              "  <thead>\n",
              "    <tr style=\"text-align: right;\">\n",
              "      <th></th>\n",
              "      <th>description</th>\n",
              "      <th>variety</th>\n",
              "      <th>predicted_variety</th>\n",
              "    </tr>\n",
              "  </thead>\n",
              "  <tbody>\n",
              "    <tr>\n",
              "      <th>27775</th>\n",
              "      <td>aromas toasted oak coffee scorched earth lead ...</td>\n",
              "      <td>Red Blend</td>\n",
              "      <td>Red Blend</td>\n",
              "    </tr>\n",
              "    <tr>\n",
              "      <th>32104</th>\n",
              "      <td>flavors wine hearty bell pepper black pepper g...</td>\n",
              "      <td>Cabernet Sauvignon</td>\n",
              "      <td>Rhône-style Red Blend</td>\n",
              "    </tr>\n",
              "    <tr>\n",
              "      <th>5256</th>\n",
              "      <td>blend petit verdot sangiovese merlot shows str...</td>\n",
              "      <td>Red Blend</td>\n",
              "      <td>Red Blend</td>\n",
              "    </tr>\n",
              "    <tr>\n",
              "      <th>8623</th>\n",
              "      <td>style usually big bold moment wine though dens...</td>\n",
              "      <td>Merlot</td>\n",
              "      <td>Merlot</td>\n",
              "    </tr>\n",
              "    <tr>\n",
              "      <th>32277</th>\n",
              "      <td>showing mature notes age four years mellow tex...</td>\n",
              "      <td>Pinot Noir</td>\n",
              "      <td>Pinot Noir</td>\n",
              "    </tr>\n",
              "  </tbody>\n",
              "</table>\n",
              "</div>"
            ],
            "text/plain": [
              "                                             description  ...      predicted_variety\n",
              "27775  aromas toasted oak coffee scorched earth lead ...  ...              Red Blend\n",
              "32104  flavors wine hearty bell pepper black pepper g...  ...  Rhône-style Red Blend\n",
              "5256   blend petit verdot sangiovese merlot shows str...  ...              Red Blend\n",
              "8623   style usually big bold moment wine though dens...  ...                 Merlot\n",
              "32277  showing mature notes age four years mellow tex...  ...             Pinot Noir\n",
              "\n",
              "[5 rows x 3 columns]"
            ]
          },
          "metadata": {
            "tags": []
          },
          "execution_count": 58
        }
      ]
    }
  ]
}